{
  "metadata": {
    "kernelspec": {
      "name": "python",
      "display_name": "Python (Pyodide)",
      "language": "python"
    },
    "language_info": {
      "codemirror_mode": {
        "name": "python",
        "version": 3
      },
      "file_extension": ".py",
      "mimetype": "text/x-python",
      "name": "python",
      "nbconvert_exporter": "python",
      "pygments_lexer": "ipython3",
      "version": "3.8"
    },
    "colab": {
      "provenance": []
    }
  },
  "nbformat_minor": 4,
  "nbformat": 4,
  "cells": [
    {
      "cell_type": "markdown",
      "source": "<center>\n    <img src=\"https://cf-courses-data.s3.us.cloud-object-storage.appdomain.cloud/IBMDeveloperSkillsNetwork-DS0105EN-SkillsNetwork/labs/Module2/images/SN_web_lightmode.png\" width=\"300\" alt=\"cognitiveclass.ai logo\">\n</center>\n",
      "metadata": {
        "id": "FhNiWOJWlSQB"
      }
    },
    {
      "cell_type": "markdown",
      "source": "# Data Science Tools and Ecosystem",
      "metadata": {
        "id": "CMW4t9k8lVJj"
      }
    },
    {
      "cell_type": "markdown",
      "source": "In this notebook, Data Science Tools and Ecosystems are summarized.",
      "metadata": {
        "id": "W5TtGuu1mgD-"
      }
    },
    {
      "cell_type": "markdown",
      "source": "# Objectives:\n- List Popular languages for Data Sciece\n- List commonly used libraries by Data Scientists.\n- List some Data science tools.\n- A few examples of evaluating arithmetic expressions in python.",
      "metadata": {}
    },
    {
      "cell_type": "markdown",
      "source": "# Data Science Languages\n\nSome of the popular languages that Data Scientists use are:\n\n\n1.   Python\n2.   R\n3.   SQL\n4.   Julia\n5.   Java\n6.   Scala\n7.   C++\n\n\n",
      "metadata": {
        "id": "j3geIL2nlSQC"
      }
    },
    {
      "cell_type": "markdown",
      "source": "# Data Science Libraries\nSome of the commonly used libraries used by Data Scientists include:\n\n\n1.   Pandas\n2.   NumPy\n3.   SciPy\n4.   Matplotlib\n\n\n",
      "metadata": {
        "id": "WQ-BPUhAow-t"
      }
    },
    {
      "cell_type": "markdown",
      "source": "| Data Science Tools |\n| ------------- |\n| Jupyter Notebook |\n| Apache Zeppelin |\n| R Studio |\n| Spyder |",
      "metadata": {
        "id": "XaarOTlglSQD"
      }
    },
    {
      "cell_type": "markdown",
      "source": "### Below are a few examples of evaluating arithmetic expressions in Python",
      "metadata": {}
    },
    {
      "cell_type": "code",
      "source": "# This a simple arithmetic expression to mutiply then add integers\n(3*4)+5",
      "metadata": {
        "trusted": true
      },
      "outputs": [
        {
          "execution_count": 2,
          "output_type": "execute_result",
          "data": {
            "text/plain": "17"
          },
          "metadata": {}
        }
      ],
      "execution_count": 2
    },
    {
      "cell_type": "code",
      "source": "# This will convert 200 minutes to hours by diving by 60\n200/60",
      "metadata": {
        "trusted": true
      },
      "outputs": [
        {
          "execution_count": 3,
          "output_type": "execute_result",
          "data": {
            "text/plain": "3.3333333333333335"
          },
          "metadata": {}
        }
      ],
      "execution_count": 3
    },
    {
      "cell_type": "markdown",
      "source": "# Author\nHarshitha Ambilpur",
      "metadata": {}
    },
    {
      "cell_type": "code",
      "source": "",
      "metadata": {
        "trusted": true
      },
      "outputs": [],
      "execution_count": null
    }
  ]
}